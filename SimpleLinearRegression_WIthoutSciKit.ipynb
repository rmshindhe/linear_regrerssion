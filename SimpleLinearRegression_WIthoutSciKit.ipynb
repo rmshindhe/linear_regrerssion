{
 "cells": [
  {
   "cell_type": "markdown",
   "metadata": {},
   "source": [
    "## Import the relavant Libraries"
   ]
  },
  {
   "cell_type": "code",
   "execution_count": 2,
   "metadata": {},
   "outputs": [],
   "source": [
    "import numpy as np\n",
    "import pandas as pd\n",
    "import matplotlib.pyplot as plt\n",
    "import seaborn as sns\n",
    "sns.set()"
   ]
  },
  {
   "cell_type": "markdown",
   "metadata": {},
   "source": [
    "## Read the data"
   ]
  },
  {
   "cell_type": "code",
   "execution_count": 66,
   "metadata": {},
   "outputs": [],
   "source": [
    "raw_data = pd.read_csv(\"Downloads/1.01. Simple linear regression.csv\")"
   ]
  },
  {
   "cell_type": "code",
   "execution_count": 67,
   "metadata": {},
   "outputs": [
    {
     "data": {
      "text/html": [
       "<div>\n",
       "<style scoped>\n",
       "    .dataframe tbody tr th:only-of-type {\n",
       "        vertical-align: middle;\n",
       "    }\n",
       "\n",
       "    .dataframe tbody tr th {\n",
       "        vertical-align: top;\n",
       "    }\n",
       "\n",
       "    .dataframe thead th {\n",
       "        text-align: right;\n",
       "    }\n",
       "</style>\n",
       "<table border=\"1\" class=\"dataframe\">\n",
       "  <thead>\n",
       "    <tr style=\"text-align: right;\">\n",
       "      <th></th>\n",
       "      <th>SAT</th>\n",
       "      <th>GPA</th>\n",
       "    </tr>\n",
       "  </thead>\n",
       "  <tbody>\n",
       "    <tr>\n",
       "      <td>0</td>\n",
       "      <td>1714</td>\n",
       "      <td>2.40</td>\n",
       "    </tr>\n",
       "    <tr>\n",
       "      <td>1</td>\n",
       "      <td>1664</td>\n",
       "      <td>2.52</td>\n",
       "    </tr>\n",
       "    <tr>\n",
       "      <td>2</td>\n",
       "      <td>1760</td>\n",
       "      <td>2.54</td>\n",
       "    </tr>\n",
       "    <tr>\n",
       "      <td>3</td>\n",
       "      <td>1685</td>\n",
       "      <td>2.74</td>\n",
       "    </tr>\n",
       "    <tr>\n",
       "      <td>4</td>\n",
       "      <td>1693</td>\n",
       "      <td>2.83</td>\n",
       "    </tr>\n",
       "    <tr>\n",
       "      <td>...</td>\n",
       "      <td>...</td>\n",
       "      <td>...</td>\n",
       "    </tr>\n",
       "    <tr>\n",
       "      <td>79</td>\n",
       "      <td>1936</td>\n",
       "      <td>3.71</td>\n",
       "    </tr>\n",
       "    <tr>\n",
       "      <td>80</td>\n",
       "      <td>1810</td>\n",
       "      <td>3.71</td>\n",
       "    </tr>\n",
       "    <tr>\n",
       "      <td>81</td>\n",
       "      <td>1987</td>\n",
       "      <td>3.73</td>\n",
       "    </tr>\n",
       "    <tr>\n",
       "      <td>82</td>\n",
       "      <td>1962</td>\n",
       "      <td>3.76</td>\n",
       "    </tr>\n",
       "    <tr>\n",
       "      <td>83</td>\n",
       "      <td>2050</td>\n",
       "      <td>3.81</td>\n",
       "    </tr>\n",
       "  </tbody>\n",
       "</table>\n",
       "<p>84 rows × 2 columns</p>\n",
       "</div>"
      ],
      "text/plain": [
       "     SAT   GPA\n",
       "0   1714  2.40\n",
       "1   1664  2.52\n",
       "2   1760  2.54\n",
       "3   1685  2.74\n",
       "4   1693  2.83\n",
       "..   ...   ...\n",
       "79  1936  3.71\n",
       "80  1810  3.71\n",
       "81  1987  3.73\n",
       "82  1962  3.76\n",
       "83  2050  3.81\n",
       "\n",
       "[84 rows x 2 columns]"
      ]
     },
     "execution_count": 67,
     "metadata": {},
     "output_type": "execute_result"
    }
   ],
   "source": [
    "raw_data"
   ]
  },
  {
   "cell_type": "code",
   "execution_count": 68,
   "metadata": {},
   "outputs": [
    {
     "data": {
      "image/png": "[encoded data removed]",
      "text/plain": [
       "<Figure size 432x288 with 1 Axes>"
      ]
     },
     "metadata": {
      "needs_background": "light"
     },
     "output_type": "display_data"
    }
   ],
   "source": [
    "plt.scatter(raw_data[\"GPA\"],raw_data[\"SAT\"])\n",
    "plt.xlabel(\"INPUTS\")\n",
    "plt.ylabel(\"OUTPUTS\")\n",
    "plt.show()"
   ]
  },
  {
   "cell_type": "code",
   "execution_count": 69,
   "metadata": {},
   "outputs": [],
   "source": [
    "def calculate(x):\n",
    "    mean = x.mean()\n",
    "    stdev = np.std(x)\n",
    "    return mean,stdev"
   ]
  },
  {
   "cell_type": "code",
   "execution_count": 70,
   "metadata": {},
   "outputs": [],
   "source": [
    "col1_mean,col1_stdev = calculate(raw_data[\"SAT\"])\n",
    "col2_mean,col2_stdev = calculate(raw_data[\"GPA\"])"
   ]
  },
  {
   "cell_type": "code",
   "execution_count": 71,
   "metadata": {},
   "outputs": [],
   "source": [
    "def scaled_SATdata(x):\n",
    "    scaled_SATinput = (x-col1_mean)/col1_stdev\n",
    "    return scaled_SATinput\n",
    "def scaled_GPAdata(x):\n",
    "    scaled_GPAinput = (x-col2_mean)/col2_stdev\n",
    "    return scaled_GPAinput"
   ]
  },
  {
   "cell_type": "code",
   "execution_count": 72,
   "metadata": {},
   "outputs": [
    {
     "data": {
      "text/plain": [
       "0    -1.263383\n",
       "1    -1.744584\n",
       "2    -0.820678\n",
       "3    -1.542480\n",
       "4    -1.465487\n",
       "        ...   \n",
       "79    0.873151\n",
       "80   -0.339476\n",
       "81    1.363977\n",
       "82    1.123376\n",
       "83    1.970291\n",
       "Name: SAT, Length: 84, dtype: float64"
      ]
     },
     "execution_count": 72,
     "metadata": {},
     "output_type": "execute_result"
    }
   ],
   "source": [
    "input = raw_data[\"SAT\"].apply(scaled_SATdata)\n",
    "target = raw_data[\"GPA\"].apply(scaled_GPAdata)\n",
    "\n",
    "input"
   ]
  },
  {
   "cell_type": "code",
   "execution_count": 73,
   "metadata": {},
   "outputs": [],
   "source": [
    "inputs = input.values.reshape(84,1)\n",
    "observations = inputs.size"
   ]
  },
  {
   "cell_type": "code",
   "execution_count": 74,
   "metadata": {},
   "outputs": [],
   "source": [
    "target = target.values.reshape(-1,1)"
   ]
  },
  {
   "cell_type": "markdown",
   "metadata": {},
   "source": [
    "## Plot the data"
   ]
  },
  {
   "cell_type": "code",
   "execution_count": 75,
   "metadata": {},
   "outputs": [
    {
     "data": {
      "image/png": "[encoded data removed]",
      "text/plain": [
       "<Figure size 432x288 with 1 Axes>"
      ]
     },
     "metadata": {
      "needs_background": "light"
     },
     "output_type": "display_data"
    }
   ],
   "source": [
    "plt.scatter(inputs,target)\n",
    "plt.xlabel(\"INPUTS\")\n",
    "plt.ylabel(\"OUTPUTS\")\n",
    "plt.show()"
   ]
  },
  {
   "cell_type": "markdown",
   "metadata": {},
   "source": [
    "## Initialize the variables"
   ]
  },
  {
   "cell_type": "code",
   "execution_count": 90,
   "metadata": {},
   "outputs": [],
   "source": [
    "init_range = 0.02\n",
    "weights = np.random.uniform(-init_range,init_range,size=(1,1))\n",
    "biases = np.random.uniform(-init_range,init_range,size=(1))"
   ]
  },
  {
   "cell_type": "markdown",
   "metadata": {},
   "source": [
    "## Set Learning rate "
   ]
  },
  {
   "cell_type": "code",
   "execution_count": 91,
   "metadata": {},
   "outputs": [],
   "source": [
    "learning_rate = 0.1"
   ]
  },
  {
   "cell_type": "markdown",
   "metadata": {},
   "source": [
    "## Train the model"
   ]
  },
  {
   "cell_type": "code",
   "execution_count": 93,
   "metadata": {},
   "outputs": [
    {
     "name": "stdout",
     "output_type": "stream",
     "text": [
      "0.2969980427489075\n",
      "0.2969980427209193\n",
      "0.29699804269824887\n",
      "0.2969980426798858\n",
      "0.29699804266501173\n",
      "0.2969980426529637\n",
      "0.29699804264320473\n",
      "0.29699804263530016\n",
      "0.2969980426288973\n",
      "0.29699804262371093\n",
      "0.29699804261951007\n",
      "0.2969980426161074\n",
      "0.2969980426133513\n",
      "0.2969980426111186\n",
      "0.2969980426093104\n",
      "0.2969980426078456\n",
      "0.2969980426066592\n",
      "0.29699804260569806\n",
      "0.2969980426049197\n",
      "0.29699804260428914\n",
      "0.2969980426037783\n",
      "0.29699804260336476\n",
      "0.2969980426030296\n",
      "0.29699804260275825\n",
      "0.2969980426025384\n",
      "0.2969980426023603\n",
      "0.2969980426022161\n",
      "0.2969980426020992\n",
      "0.29699804260200463\n",
      "0.29699804260192797\n",
      "0.2969980426018658\n",
      "0.2969980426018155\n",
      "0.29699804260177476\n",
      "0.2969980426017418\n",
      "0.2969980426017151\n",
      "0.2969980426016934\n",
      "0.29699804260167584\n",
      "0.2969980426016616\n",
      "0.29699804260165014\n",
      "0.2969980426016408\n",
      "0.29699804260163337\n",
      "0.29699804260162715\n",
      "0.2969980426016222\n",
      "0.2969980426016182\n",
      "0.29699804260161494\n",
      "0.2969980426016123\n",
      "0.2969980426016102\n",
      "0.29699804260160845\n",
      "0.29699804260160706\n",
      "0.2969980426016059\n",
      "0.29699804260160495\n",
      "0.29699804260160423\n",
      "0.2969980426016036\n",
      "0.2969980426016032\n",
      "0.29699804260160273\n",
      "0.29699804260160245\n",
      "0.2969980426016023\n",
      "0.29699804260160195\n",
      "0.29699804260160184\n",
      "0.29699804260160173\n",
      "0.29699804260160156\n",
      "0.2969980426016015\n",
      "0.29699804260160145\n",
      "0.29699804260160134\n",
      "0.2969980426016014\n",
      "0.2969980426016013\n",
      "0.29699804260160123\n",
      "0.2969980426016012\n",
      "0.2969980426016012\n",
      "0.2969980426016012\n",
      "0.2969980426016012\n",
      "0.2969980426016011\n",
      "0.2969980426016012\n",
      "0.2969980426016012\n",
      "0.2969980426016011\n",
      "0.2969980426016012\n",
      "0.2969980426016011\n",
      "0.2969980426016012\n",
      "0.29699804260160106\n",
      "0.29699804260160106\n",
      "0.29699804260160106\n",
      "0.2969980426016011\n",
      "0.2969980426016011\n",
      "0.2969980426016011\n",
      "0.29699804260160106\n",
      "0.2969980426016011\n",
      "0.2969980426016011\n",
      "0.2969980426016011\n",
      "0.29699804260160106\n",
      "0.29699804260160106\n",
      "0.2969980426016012\n",
      "0.2969980426016011\n",
      "0.2969980426016011\n",
      "0.29699804260160106\n",
      "0.2969980426016011\n",
      "0.29699804260160106\n",
      "0.2969980426016011\n",
      "0.29699804260160106\n",
      "0.2969980426016011\n",
      "0.29699804260160106\n"
     ]
    }
   ],
   "source": [
    "for i in range(100):\n",
    "    outputs =np.dot(inputs, weights) + biases\n",
    "    deltas = outputs - target\n",
    "    loss  = np.sum(deltas **2)/2/observations\n",
    "    print(loss)\n",
    "    deltas_scaled = deltas/observations\n",
    "    weights = weights - learning_rate*np.dot(inputs.T,deltas_scaled)\n",
    "    biases = biases - learning_rate*np.sum(deltas_scaled)"
   ]
  }
 ],
 "metadata": {
  "kernelspec": {
   "display_name": "Python 3",
   "language": "python",
   "name": "python3"
  },
  "language_info": {
   "codemirror_mode": {
    "name": "ipython",
    "version": 3
   },
   "file_extension": ".py",
   "mimetype": "text/x-python",
   "name": "python",
   "nbconvert_exporter": "python",
   "pygments_lexer": "ipython3",
   "version": "3.7.4"
  }
 },
 "nbformat": 4,
 "nbformat_minor": 2
}
